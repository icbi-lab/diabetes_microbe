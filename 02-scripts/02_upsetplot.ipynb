{
 "cells": [
  {
   "cell_type": "markdown",
   "id": "9eb71607-06c8-457a-8cee-04ebfba43752",
   "metadata": {},
   "source": [
    "# Pankreopriver diabetes mellitus vs Diabetes Type 1 "
   ]
  },
  {
   "cell_type": "markdown",
   "id": "b31cd6bf-a1a8-4d3e-847e-0fc54bfaddba",
   "metadata": {},
   "source": [
    "## Upsetplot"
   ]
  },
  {
   "cell_type": "markdown",
   "id": "77b7c0c5-5df4-48e1-b2b4-6e4959bd4667",
   "metadata": {},
   "source": [
    "### Libraries"
   ]
  },
  {
   "cell_type": "code",
   "execution_count": 1,
   "id": "32f77e2a-cc11-4cb3-a621-5c2bbffa272e",
   "metadata": {},
   "outputs": [],
   "source": [
    "# pd.options.display.max_columns= 999"
   ]
  },
  {
   "cell_type": "code",
   "execution_count": 2,
   "id": "525ed4f2-145c-4e82-8349-a40d7c96611a",
   "metadata": {},
   "outputs": [],
   "source": [
    "import pandas as pd"
   ]
  },
  {
   "cell_type": "code",
   "execution_count": 3,
   "id": "a0a31afd-109d-4cc8-8344-287902b6c52a",
   "metadata": {},
   "outputs": [],
   "source": [
    "import matplotlib.pyplot as plt\n",
    "import numpy as np\n",
    "import pandas as pd\n",
    "import seaborn as sns\n",
    "from sklearn.decomposition import PCA"
   ]
  },
  {
   "cell_type": "code",
   "execution_count": 4,
   "id": "57577012-fea3-4390-9b2e-af92a57f5a1f",
   "metadata": {},
   "outputs": [],
   "source": [
    "import matplotlib.pyplot as plt\n",
    "import numpy as np\n",
    "import pandas as pd\n",
    "import seaborn as sns\n",
    "import statsmodels.api as sm\n",
    "import statsmodels.formula.api as smf\n",
    "from scipy.stats import mannwhitneyu\n",
    "from statsmodels.stats.multitest import multipletests"
   ]
  },
  {
   "cell_type": "code",
   "execution_count": 5,
   "id": "ee1c7d58-2be9-4a73-9123-7c09cd43ce47",
   "metadata": {},
   "outputs": [],
   "source": [
    "from skbio.stats.ordination import pcoa"
   ]
  },
  {
   "cell_type": "markdown",
   "id": "22dd1192-285d-401d-a29e-229e6b903a9c",
   "metadata": {},
   "source": [
    "### Data loading"
   ]
  },
  {
   "cell_type": "code",
   "execution_count": 6,
   "id": "a8415c3b-e8dc-40da-b944-874bb9c1d1c9",
   "metadata": {},
   "outputs": [],
   "source": [
    "#df = pd.read_csv(\"/data/projects/2024/Effenberger-Diabetes/data/PDM merged 3.0_modified.csv\")\n",
    "df = pd.read_csv(\"/data/scratch/kvalem/projects/2024/diabetes_microbe/01-tables/PDM merged 3.0_modified.csv\")"
   ]
  },
  {
   "cell_type": "code",
   "execution_count": 7,
   "id": "52e13a9d-8f76-4ef2-9ec6-98f1245d3026",
   "metadata": {},
   "outputs": [],
   "source": [
    "#sample_info = pd.read_csv(\"/data/projects/2024/Effenberger-Diabetes/data/20011/20011_SampleInfo.csv\")\n",
    "sample_info = pd.read_csv(\"/data/scratch/kvalem/projects/2024/diabetes_microbe/01-tables/20011_SampleInfo.csv\")"
   ]
  },
  {
   "cell_type": "code",
   "execution_count": 8,
   "id": "fdecd3c2-3b0f-4be5-9193-b3f4698569f2",
   "metadata": {},
   "outputs": [],
   "source": [
    "df.rename(columns={\"Probennummer\": \"sample_information\"}, inplace=True)"
   ]
  },
  {
   "cell_type": "code",
   "execution_count": 9,
   "id": "5993a16c-6c6b-4997-b56f-a87ee05c7f2a",
   "metadata": {},
   "outputs": [],
   "source": [
    "sample_info.rename(columns={\"SampleInformation\": \"sample_information\"}, inplace=True)"
   ]
  },
  {
   "cell_type": "code",
   "execution_count": 10,
   "id": "30a2ae76-bb5c-469f-b721-104860bc0fc2",
   "metadata": {},
   "outputs": [],
   "source": [
    "df = df.merge(\n",
    "    sample_info[[\"sample_information\", \"IMGM ID\", \"Type\"]],\n",
    "    on=\"sample_information\",\n",
    "    how=\"left\",\n",
    ")"
   ]
  },
  {
   "cell_type": "code",
   "execution_count": 11,
   "id": "bfde5c3a-91b5-4a98-b56a-d5c79f29ba00",
   "metadata": {},
   "outputs": [],
   "source": [
    "#file_path = \"/data/projects/2024/Effenberger-Diabetes/out/nf_core_ampliseq_003/qiime2/barplot/level-6.csv\"\n",
    "file_path = \"/data/scratch/kvalem/projects/2024/diabetes_microbe/01-tables/level-6.csv\"\n",
    "df_tax = pd.read_csv(file_path)"
   ]
  },
  {
   "cell_type": "markdown",
   "id": "14a4dfaa-be6a-49d5-b7a5-06e23f5856f1",
   "metadata": {},
   "source": [
    "### Plot"
   ]
  },
  {
   "cell_type": "code",
   "execution_count": 12,
   "id": "d5cfce3d-e0b1-4f7d-ae24-87210522ad7e",
   "metadata": {},
   "outputs": [],
   "source": [
    "metadata_cols = [\n",
    "    \"index\",\n",
    "    \"sample_information\",\n",
    "    \"Type\",\n",
    "    \"nikotin\",\n",
    "    \"sex\",\n",
    "    \"age_group\",\n",
    "    \"AH\",\n",
    "]\n",
    "\n",
    "\n",
    "def extract_microbial_data(df, condition_label):\n",
    "    subset = df[df[\"sample_information\"].str.startswith(condition_label)]\n",
    "    microbial_data = subset.drop(columns=metadata_cols, errors=\"ignore\")\n",
    "    microbial_data = microbial_data.loc[:, (microbial_data != 0).any(axis=0)]\n",
    "    microbial_data = microbial_data.loc[\n",
    "        :, ~microbial_data.columns.str.startswith(\"Archaea;\")\n",
    "    ]\n",
    "    return microbial_data\n",
    "\n",
    "\n",
    "\n",
    "microbial_data_PDM = extract_microbial_data(df_tax, \"PDM\")\n",
    "microbial_data_DM = extract_microbial_data(df_tax, \"DM\")\n",
    "microbial_data_Kontrolle = extract_microbial_data(df_tax, \"K\")"
   ]
  },
  {
   "cell_type": "code",
   "execution_count": 13,
   "id": "a86b1a43-d1d9-4d0d-9f13-5134d7484993",
   "metadata": {},
   "outputs": [],
   "source": [
    "list_PDM = set(microbial_data_PDM.columns)\n",
    "list_DM = set(microbial_data_DM.columns)\n",
    "list_Kontrolle = set(microbial_data_Kontrolle.columns)"
   ]
  },
  {
   "cell_type": "code",
   "execution_count": 14,
   "id": "ef36e7fa-247f-4d94-9925-c244e70d6e2a",
   "metadata": {},
   "outputs": [],
   "source": [
    "common_PDM_DM = list_PDM & list_DM"
   ]
  },
  {
   "cell_type": "code",
   "execution_count": 15,
   "id": "15c101d9-c531-415a-a633-3dbb1732ac6c",
   "metadata": {},
   "outputs": [],
   "source": [
    "notcommon_PDM_DM = list_PDM ^ list_DM\n",
    "\n",
    "# Unique to PDM\n",
    "unique_PDM = list_PDM - list_DM - list_Kontrolle\n",
    "\n",
    "# Unique to DM\n",
    "unique_DM = list_DM - list_PDM - list_Kontrolle\n",
    "\n",
    "common_PDM_DM = sorted(list(common_PDM_DM))\n",
    "unique_PDM = sorted(list(unique_PDM))\n",
    "unique_DM = sorted(list(unique_DM))"
   ]
  },
  {
   "cell_type": "code",
   "execution_count": 16,
   "id": "72fb013b-e2c3-45d9-865a-3816922da380",
   "metadata": {},
   "outputs": [],
   "source": [
    "metadata_cols = [\n",
    "    \"index\",\n",
    "    \"sample_information\",\n",
    "    \"Type\",\n",
    "    \"nikotin\",\n",
    "    \"sex\",\n",
    "    \"age_group\",\n",
    "    \"AH\",\n",
    "]\n",
    "\n",
    "microbial_data = df_tax.drop(columns=metadata_cols, errors=\"ignore\")\n",
    "microbial_data = microbial_data.loc[:, (microbial_data != 0).any(axis=0)]\n",
    "\n",
    "\n",
    "def extract_microbial_data(df, condition_label):\n",
    "    subset = df[df[\"sample_information\"].str.startswith(condition_label)]\n",
    "    microbial_data = subset.drop(columns=metadata_cols, errors=\"ignore\")\n",
    "    microbial_data = microbial_data.loc[:, (microbial_data != 0).any(axis=0)]\n",
    "    return microbial_data\n",
    "\n",
    "\n",
    "microbial_data_PDM = extract_microbial_data(df_tax, \"PDM\")\n",
    "microbial_data_DM = extract_microbial_data(df_tax, \"DM\")\n",
    "\n",
    "list_PDM = set(microbial_data_PDM.columns)\n",
    "list_DM = set(microbial_data_DM.columns)\n",
    "\n",
    "common_PDM_DM = list_PDM - list_DM\n",
    "common_PDM_DM = sorted(list(common_PDM_DM))"
   ]
  },
  {
   "cell_type": "code",
   "execution_count": 17,
   "id": "d8e5691c-08f5-47ed-a6ef-83f98d4360ae",
   "metadata": {},
   "outputs": [
    {
     "name": "stderr",
     "output_type": "stream",
     "text": [
      "/home/kvalem/.conda/envs/scanpy/lib/python3.12/site-packages/upsetplot/data.py:303: FutureWarning: Downcasting object dtype arrays on .fillna, .ffill, .bfill is deprecated and will change in a future version. Call result.infer_objects(copy=False) instead. To opt-in to the future behavior, set `pd.set_option('future.no_silent_downcasting', True)`\n",
      "  df.fillna(False, inplace=True)\n",
      "/home/kvalem/.conda/envs/scanpy/lib/python3.12/site-packages/upsetplot/plotting.py:795: FutureWarning: A value is trying to be set on a copy of a DataFrame or Series through chained assignment using an inplace method.\n",
      "The behavior will change in pandas 3.0. This inplace method will never work because the intermediate object on which we are setting values always behaves as a copy.\n",
      "\n",
      "For example, when doing 'df[col].method(value, inplace=True)', try using 'df.method({col: value}, inplace=True)' or df[col] = df[col].method(value) instead, to perform the operation inplace on the original object.\n",
      "\n",
      "\n",
      "  styles[\"linewidth\"].fillna(1, inplace=True)\n",
      "/home/kvalem/.conda/envs/scanpy/lib/python3.12/site-packages/upsetplot/plotting.py:796: FutureWarning: A value is trying to be set on a copy of a DataFrame or Series through chained assignment using an inplace method.\n",
      "The behavior will change in pandas 3.0. This inplace method will never work because the intermediate object on which we are setting values always behaves as a copy.\n",
      "\n",
      "For example, when doing 'df[col].method(value, inplace=True)', try using 'df.method({col: value}, inplace=True)' or df[col] = df[col].method(value) instead, to perform the operation inplace on the original object.\n",
      "\n",
      "\n",
      "  styles[\"facecolor\"].fillna(self._facecolor, inplace=True)\n",
      "/home/kvalem/.conda/envs/scanpy/lib/python3.12/site-packages/upsetplot/plotting.py:797: FutureWarning: A value is trying to be set on a copy of a DataFrame or Series through chained assignment using an inplace method.\n",
      "The behavior will change in pandas 3.0. This inplace method will never work because the intermediate object on which we are setting values always behaves as a copy.\n",
      "\n",
      "For example, when doing 'df[col].method(value, inplace=True)', try using 'df.method({col: value}, inplace=True)' or df[col] = df[col].method(value) instead, to perform the operation inplace on the original object.\n",
      "\n",
      "\n",
      "  styles[\"edgecolor\"].fillna(styles[\"facecolor\"], inplace=True)\n",
      "/home/kvalem/.conda/envs/scanpy/lib/python3.12/site-packages/upsetplot/plotting.py:798: FutureWarning: A value is trying to be set on a copy of a DataFrame or Series through chained assignment using an inplace method.\n",
      "The behavior will change in pandas 3.0. This inplace method will never work because the intermediate object on which we are setting values always behaves as a copy.\n",
      "\n",
      "For example, when doing 'df[col].method(value, inplace=True)', try using 'df.method({col: value}, inplace=True)' or df[col] = df[col].method(value) instead, to perform the operation inplace on the original object.\n",
      "\n",
      "\n",
      "  styles[\"linestyle\"].fillna(\"solid\", inplace=True)\n",
      "/tmp/ipykernel_3550574/1618350439.py:32: UserWarning: This figure includes Axes that are not compatible with tight_layout, so results might be incorrect.\n",
      "  plt.tight_layout()\n"
     ]
    },
    {
     "data": {
      "text/plain": [
       "<Figure size 1000x600 with 0 Axes>"
      ]
     },
     "metadata": {},
     "output_type": "display_data"
    },
    {
     "data": {
      "image/png": "[encoded data removed]",
      "text/plain": [
       "<Figure size 533.333x400 with 4 Axes>"
      ]
     },
     "metadata": {},
     "output_type": "display_data"
    }
   ],
   "source": [
    "import matplotlib.pyplot as plt\n",
    "import pandas as pd\n",
    "from upsetplot import UpSet, from_memberships\n",
    "\n",
    "\n",
    "taxa_T3cDM = set(microbial_data_PDM.columns)\n",
    "taxa_T1DM = set(microbial_data_DM.columns)\n",
    "taxa_H = set(microbial_data_Kontrolle.columns)\n",
    "\n",
    "\n",
    "taxa_all = taxa_T3cDM | taxa_T1DM | taxa_H\n",
    "\n",
    "\n",
    "memberships = []\n",
    "for taxon in taxa_all:\n",
    "    presence = []\n",
    "    if taxon in taxa_T3cDM:\n",
    "        presence.append(\"T3cDM\")\n",
    "    if taxon in taxa_T1DM:\n",
    "        presence.append(\"T1DM\")\n",
    "    if taxon in taxa_H:\n",
    "        presence.append(\"H\")\n",
    "    memberships.append(presence)\n",
    "\n",
    "\n",
    "data = from_memberships(memberships)\n",
    "\n",
    "\n",
    "plt.figure(figsize=(10, 6))\n",
    "UpSet(data, subset_size=\"count\", show_counts=True).plot()\n",
    "plt.title(\"\")\n",
    "plt.tight_layout()\n",
    "#plt.savefig(\"/data/scratch/kvalem/projects/2024/diabetes_microbe/05-results/figures/upsetplot.svg\", dpi=300)\n",
    "#plt.savefig(\"/data/scratch/kvalem/projects/2024/diabetes_microbe/05-results/figures/upsetplot.png\", dpi=300)\n",
    "plt.show()\n",
    "\n",
    "\n",
    "shared_T3cDM_T1DM_only = (taxa_T3cDM & taxa_T1DM) - taxa_H\n",
    "unique_T3cDM = taxa_T3cDM - taxa_T1DM - taxa_H\n",
    "unique_T1DM = taxa_T1DM - taxa_T3cDM - taxa_H\n",
    "unique_H = taxa_H - taxa_T1DM - taxa_T3cDM\n"
   ]
  }
 ],
 "metadata": {
  "kernelspec": {
   "display_name": "scanpy",
   "language": "python",
   "name": "scanpy"
  },
  "language_info": {
   "codemirror_mode": {
    "name": "ipython",
    "version": 3
   },
   "file_extension": ".py",
   "mimetype": "text/x-python",
   "name": "python",
   "nbconvert_exporter": "python",
   "pygments_lexer": "ipython3",
   "version": "3.12.3"
  }
 },
 "nbformat": 4,
 "nbformat_minor": 5
}
