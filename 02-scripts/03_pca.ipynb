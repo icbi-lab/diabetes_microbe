{
 "cells": [
  {
   "cell_type": "markdown",
   "id": "81f790a7-df05-43d7-92af-0e763318a12e",
   "metadata": {},
   "source": [
    "# Pankreopriver diabetes mellitus vs Diabetes Type 1 "
   ]
  },
  {
   "cell_type": "markdown",
   "id": "b849cbb9-f15d-47a0-aaca-4e70b77a3163",
   "metadata": {},
   "source": [
    "## PCA"
   ]
  },
  {
   "cell_type": "markdown",
   "id": "34cbf7e1-7443-4c04-9874-f67f3f8517e5",
   "metadata": {},
   "source": [
    "### Libraries"
   ]
  },
  {
   "cell_type": "code",
   "execution_count": 1,
   "id": "328b5f72-da60-49d2-8995-7a522cd84440",
   "metadata": {},
   "outputs": [],
   "source": [
    "# pd.options.display.max_columns= 999"
   ]
  },
  {
   "cell_type": "code",
   "execution_count": 2,
   "id": "7922020a-6dc4-49dc-8fb8-6ef914950722",
   "metadata": {},
   "outputs": [],
   "source": [
    "import pandas as pd"
   ]
  },
  {
   "cell_type": "code",
   "execution_count": 3,
   "id": "ead4926b-68d8-45e1-9d74-9ac622b7f115",
   "metadata": {},
   "outputs": [],
   "source": [
    "import matplotlib.pyplot as plt\n",
    "import numpy as np\n",
    "import pandas as pd\n",
    "import seaborn as sns\n",
    "from sklearn.decomposition import PCA"
   ]
  },
  {
   "cell_type": "code",
   "execution_count": 4,
   "id": "3d023585-7f6f-4187-ac0f-fdfaffb695c3",
   "metadata": {},
   "outputs": [],
   "source": [
    "import matplotlib.pyplot as plt\n",
    "import numpy as np\n",
    "import pandas as pd\n",
    "import seaborn as sns\n",
    "import statsmodels.api as sm\n",
    "import statsmodels.formula.api as smf\n",
    "from scipy.stats import mannwhitneyu\n",
    "from statsmodels.stats.multitest import multipletests"
   ]
  },
  {
   "cell_type": "code",
   "execution_count": 5,
   "id": "d62e1653-8611-48cf-a79d-ec43ce881cbf",
   "metadata": {},
   "outputs": [],
   "source": [
    "from skbio.stats.ordination import pcoa"
   ]
  },
  {
   "cell_type": "markdown",
   "id": "93b0822f-f878-45e7-852f-a52c8d85a8e4",
   "metadata": {},
   "source": [
    "### Data loading"
   ]
  },
  {
   "cell_type": "code",
   "execution_count": 6,
   "id": "72166431-3915-4d3e-86ea-4f64a10a3187",
   "metadata": {},
   "outputs": [],
   "source": [
    "df = pd.read_csv(\n",
    "    \"/data/projects/2024/Effenberger-Diabetes/data/PDM merged 3.0_modified.csv\"\n",
    ")"
   ]
  },
  {
   "cell_type": "code",
   "execution_count": 7,
   "id": "10feb090-3210-4834-a821-433efecbb522",
   "metadata": {},
   "outputs": [],
   "source": [
    "sample_info = pd.read_csv(\n",
    "    \"/data/projects/2024/Effenberger-Diabetes/data/20011/20011_SampleInfo.csv\"\n",
    ")"
   ]
  },
  {
   "cell_type": "code",
   "execution_count": 8,
   "id": "4069c0c8-4a8e-47ae-910a-174631cab6be",
   "metadata": {},
   "outputs": [],
   "source": [
    "df.rename(columns={\"Probennummer\": \"sample_information\"}, inplace=True)"
   ]
  },
  {
   "cell_type": "code",
   "execution_count": 9,
   "id": "44efcf72-5b68-41e5-b3d3-d6c8fdecf4ac",
   "metadata": {},
   "outputs": [],
   "source": [
    "sample_info.rename(columns={\"SampleInformation\": \"sample_information\"}, inplace=True)"
   ]
  },
  {
   "cell_type": "code",
   "execution_count": 10,
   "id": "353d8f9f-5131-4ee3-910c-c278d0541723",
   "metadata": {},
   "outputs": [],
   "source": [
    "df = df.merge(\n",
    "    sample_info[[\"sample_information\", \"IMGM ID\", \"Type\"]],\n",
    "    on=\"sample_information\",\n",
    "    how=\"left\",\n",
    ")"
   ]
  },
  {
   "cell_type": "code",
   "execution_count": 11,
   "id": "a3f03c1b-f3ce-466d-96fb-ed1c427acda8",
   "metadata": {},
   "outputs": [],
   "source": [
    "file_path = \"/data/projects/2024/Effenberger-Diabetes/out/nf_core_ampliseq_003/qiime2/barplot/level-6.csv\"\n",
    "df_tax = pd.read_csv(file_path)"
   ]
  },
  {
   "cell_type": "code",
   "execution_count": 12,
   "id": "2042bfea-bacd-4305-86a0-1d2174c85671",
   "metadata": {},
   "outputs": [],
   "source": [
    "df_tax.set_index(\"index\", inplace=True)"
   ]
  },
  {
   "cell_type": "code",
   "execution_count": 13,
   "id": "7eb73ab6-2286-489d-ad88-cf245b84747e",
   "metadata": {},
   "outputs": [],
   "source": [
    "exclude_cols = [\n",
    "    'sample_information', 'age', 'KHK1', 'KHK2', 'CA1', 'CA2',\n",
    "    'HbA1C (DCCT/NGSP)1', 'HbA1C (DCCT/NGSP)2', 'Glukose1', 'Glukose2',\n",
    "    'BMI1', 'BMI2', 'Pankreatektomie', 'HbA1C_diff', 'Glukose_diff',\n",
    "    'BMI_diff', 'KHK_diff', 'CA_diff'\n",
    "]\n",
    "\n",
    "df_tax_bacteria = df_tax.drop(columns=exclude_cols, errors='ignore')\n",
    "\n",
    "threshold = 0.1\n",
    "\n",
    "mean_abundance = df_tax_bacteria.mean(axis=0)\n",
    "\n",
    "low_abundance_taxa = mean_abundance[mean_abundance < threshold].index\n",
    "\n",
    "df_low_abundance = df_tax_bacteria[low_abundance_taxa]\n",
    "\n",
    "high_abundance_taxa = mean_abundance[mean_abundance >= threshold].index\n",
    "\n",
    "df_high_abundance = df_tax_bacteria[high_abundance_taxa]"
   ]
  },
  {
   "cell_type": "markdown",
   "id": "6631897b-43d4-4cb5-8ffc-2d52d1cdea05",
   "metadata": {},
   "source": [
    "### Data cleaning"
   ]
  },
  {
   "cell_type": "markdown",
   "id": "39b6f6d5-761d-44da-b56e-c7c8c77c115b",
   "metadata": {},
   "source": [
    "#### Metadata contains clinical information"
   ]
  },
  {
   "cell_type": "code",
   "execution_count": 14,
   "id": "70a22aa4-18df-478b-8663-bd3dff13bfa0",
   "metadata": {},
   "outputs": [],
   "source": [
    "metadata_cols = df[\n",
    "    [\n",
    "        \"IMGM ID\",\n",
    "        \"sample_information\",\n",
    "        \"Type\",\n",
    "        \"age\",\n",
    "        \"KHK1\",\n",
    "        \"KHK2\",\n",
    "        \"CA1\",\n",
    "        \"CA2\",\n",
    "        \"HbA1C (DCCT/NGSP)1\",\n",
    "        \"HbA1C (DCCT/NGSP)2\",\n",
    "        \"Glukose1\",\n",
    "        \"Glukose2\",\n",
    "        \"BMI1\",\n",
    "        \"BMI2\",\n",
    "       \"Pankreatektomie\",'sex','Insulin1','Insulin2', 'MASLD1','MASLD2', 'nikotin',\n",
    "    ]\n",
    "]"
   ]
  },
  {
   "cell_type": "code",
   "execution_count": 15,
   "id": "645a9bfe-c6f4-4b1a-8da7-3f173a9b9e0b",
   "metadata": {},
   "outputs": [],
   "source": [
    "metadata = metadata_cols.dropna(subset=[\"IMGM ID\"])"
   ]
  },
  {
   "cell_type": "code",
   "execution_count": 16,
   "id": "464039db-0683-4b7a-a265-5aa64f4063a2",
   "metadata": {},
   "outputs": [],
   "source": [
    "metadata[\"HbA1C_diff\"] = metadata.apply(\n",
    "    lambda x: (\n",
    "        \"increase\"\n",
    "        if x[\"HbA1C (DCCT/NGSP)2\"] - x[\"HbA1C (DCCT/NGSP)1\"] > 0\n",
    "        else \"decrease\"\n",
    "    ),\n",
    "    axis=1,\n",
    ")\n",
    "metadata[\"Glukose_diff\"] = metadata.apply(\n",
    "    lambda x: \"increase\" if x[\"Glukose2\"] - x[\"Glukose1\"] > 0 else \"decrease\", axis=1\n",
    ")\n",
    "metadata[\"BMI_diff\"] = metadata.apply(\n",
    "    lambda x: \"increase\" if x[\"BMI2\"] - x[\"BMI1\"] > 0 else \"decrease\", axis=1\n",
    ")"
   ]
  },
  {
   "cell_type": "code",
   "execution_count": 17,
   "id": "396ec033-c546-44f0-b317-5427eec6e119",
   "metadata": {},
   "outputs": [],
   "source": [
    "def categorize_diff(before, after):\n",
    "    if after == \"ja\" and before == \"nein\":\n",
    "        return \"onset\"\n",
    "    elif after == \"nein\" and before == \"nein\":\n",
    "        return \"absent\"\n",
    "    elif after == \"nein\" and before == \"ja\":\n",
    "        return \"resolved\"\n",
    "    elif after == \"ja\" and before == \"ja\":\n",
    "        return \"persistent\"\n",
    "    else:\n",
    "        return \"unknown\" \n",
    "\n",
    "metadata[\"KHK_diff\"] = metadata.apply(\n",
    "    lambda x: categorize_diff(x[\"KHK1\"], x[\"KHK2\"]), axis=1\n",
    ")\n",
    "metadata[\"CA_diff\"] = metadata.apply(\n",
    "    lambda x: categorize_diff(x[\"CA1\"], x[\"CA2\"]), axis=1\n",
    ")"
   ]
  },
  {
   "cell_type": "code",
   "execution_count": 18,
   "id": "d13fa1a9-7d4f-4542-ac02-57293e69158d",
   "metadata": {},
   "outputs": [],
   "source": [
    "metadata.rename(columns={\"IMGM ID\": \"id\"}, inplace=True)"
   ]
  },
  {
   "cell_type": "code",
   "execution_count": 19,
   "id": "244cb625-30d7-44e8-8970-69686d029a6c",
   "metadata": {},
   "outputs": [],
   "source": [
    "metadata_k = metadata[metadata[\"sample_information\"].str.contains(\"K\", na=False)]\n",
    "metadata_dm = metadata[metadata[\"sample_information\"].str.match(\"DM\", na=False)]\n",
    "metadata_pdm = metadata[metadata[\"sample_information\"].str.contains(\"PDM\", na=False)]"
   ]
  },
  {
   "cell_type": "code",
   "execution_count": 20,
   "id": "558d1100-49ae-4dbd-90cd-a5016e5f5234",
   "metadata": {},
   "outputs": [],
   "source": [
    "metadata_k = metadata_k.drop_duplicates(subset=[\"id\"], keep=\"first\")\n",
    "metadata_dm = metadata_dm.drop_duplicates(subset=[\"id\"], keep=\"first\")\n",
    "metadata_pdm = metadata_pdm.drop_duplicates(subset=[\"id\"], keep=\"first\")"
   ]
  },
  {
   "cell_type": "code",
   "execution_count": 21,
   "id": "46c642f2-29b9-4082-b5f7-c07a8a93f1f2",
   "metadata": {},
   "outputs": [],
   "source": [
    "metadata = metadata.drop_duplicates(subset=[\"id\"], keep=\"first\")"
   ]
  },
  {
   "cell_type": "markdown",
   "id": "cc92288d-d8b4-4f0a-97b0-63acf62ccc3d",
   "metadata": {},
   "source": [
    "#### Microbial data contains taxonomic information from QUIIME"
   ]
  },
  {
   "cell_type": "code",
   "execution_count": 22,
   "id": "a06d9a8a-7a6e-453d-8054-a2eea55b53ed",
   "metadata": {},
   "outputs": [],
   "source": [
    "microbial_data = df_high_abundance.drop(columns=metadata_cols, errors=\"ignore\")"
   ]
  },
  {
   "cell_type": "code",
   "execution_count": 23,
   "id": "ae0e2dd9-1f9c-40aa-99a1-b82423a2f435",
   "metadata": {},
   "outputs": [],
   "source": [
    "microbial_data[\"id\"] = microbial_data.index"
   ]
  },
  {
   "cell_type": "code",
   "execution_count": 24,
   "id": "bfe9766f-07ac-445d-9d37-2dabc9016959",
   "metadata": {},
   "outputs": [],
   "source": [
    "def extract_species_name(taxonomy):\n",
    "    \"\"\"Extract the last part of a taxonomy string (genus name).\"\"\"\n",
    "    return taxonomy.split(\";\")[-1].strip()"
   ]
  },
  {
   "cell_type": "code",
   "execution_count": 25,
   "id": "82df54ec-2cb7-4c28-9929-b57571c4ef86",
   "metadata": {},
   "outputs": [],
   "source": [
    "microbial_data.rename(\n",
    "    columns={col: extract_species_name(col) for col in microbial_data.columns},\n",
    "    inplace=True,\n",
    ")"
   ]
  },
  {
   "cell_type": "code",
   "execution_count": 26,
   "id": "e20d1b1a-0445-4394-b52c-f87439ef8ed6",
   "metadata": {},
   "outputs": [],
   "source": [
    "microbial_data.rename(columns={\"index\": \"id\"}, inplace=True)"
   ]
  },
  {
   "cell_type": "code",
   "execution_count": 27,
   "id": "55e4bb6f-b70d-417a-95d4-d911b6652f18",
   "metadata": {},
   "outputs": [
    {
     "name": "stdout",
     "output_type": "stream",
     "text": [
      "microbial_data columns: Index(['', '', '', 'Bacteroides', 'Fusicatenibacter', 'Ruminococcus',\n",
      "       'Subdoligranulum', 'Prevotella_9', '', '',\n",
      "       ...\n",
      "       'Aeromonas', 'CHKCI001', 'DNF00809', 'Succiniclasticum', 'Anaerococcus',\n",
      "       '', 'Caproiciproducens', '', 'Lachnospiraceae UCG-009', 'id'],\n",
      "      dtype='object', length=354)\n",
      "metadata columns: Index(['id', 'sample_information', 'Type', 'age', 'KHK1', 'KHK2', 'CA1', 'CA2',\n",
      "       'HbA1C (DCCT/NGSP)1', 'HbA1C (DCCT/NGSP)2', 'Glukose1', 'Glukose2',\n",
      "       'BMI1', 'BMI2', 'Pankreatektomie', 'sex', 'Insulin1', 'Insulin2',\n",
      "       'MASLD1', 'MASLD2', 'nikotin', 'HbA1C_diff', 'Glukose_diff', 'BMI_diff',\n",
      "       'KHK_diff', 'CA_diff'],\n",
      "      dtype='object')\n"
     ]
    }
   ],
   "source": [
    "microbial_data.columns = microbial_data.columns.str.strip()\n",
    "metadata.columns = metadata.columns.str.strip()\n",
    "\n",
    "print(\"microbial_data columns:\", microbial_data.columns)\n",
    "print(\"metadata columns:\", metadata.columns)\n",
    "\n",
    "if \"id\" in microbial_data.columns and \"id\" in metadata.columns:\n",
    "    microbial_data = microbial_data.merge(\n",
    "        metadata[[\"id\", \"Type\", \"sample_information\",\"age\",'KHK1', 'KHK2', 'CA1', 'CA2',\n",
    "       'HbA1C (DCCT/NGSP)1', 'HbA1C (DCCT/NGSP)2', 'Glukose1', 'Glukose2','Pankreatektomie',\n",
    "       'BMI1', 'BMI2']], on=\"id\", how=\"left\"\n",
    "    )\n",
    "\n",
    "else:\n",
    "    print(\"'id' column not found in one or both DataFrames.\")"
   ]
  },
  {
   "cell_type": "code",
   "execution_count": 28,
   "id": "8ed0ae1e-7dd5-45ee-85e2-977b0527eedf",
   "metadata": {},
   "outputs": [],
   "source": [
    "ordinal_map = {\n",
    "    \"nein\": 0,\n",
    "    \"Teilresektion links\": 1,\n",
    "    \"Teilresektion rechts\": 2,\n",
    "    \"Resektion\": 3\n",
    "}\n",
    "\n",
    "microbial_data[\"Pankreatektomie_encoded\"] = microbial_data[\"Pankreatektomie\"].map(ordinal_map)"
   ]
  },
  {
   "cell_type": "code",
   "execution_count": 29,
   "id": "791f409e-76f7-4097-b623-45c61c3b34b5",
   "metadata": {},
   "outputs": [],
   "source": [
    "microbial_data_original = microbial_data.copy()"
   ]
  },
  {
   "cell_type": "code",
   "execution_count": 30,
   "id": "2dca51a0-c59a-459e-8cf8-79a17f28d7a5",
   "metadata": {},
   "outputs": [],
   "source": [
    "microbial_data = microbial_data.drop(columns=['Pankreatektomie'])"
   ]
  },
  {
   "cell_type": "code",
   "execution_count": 31,
   "id": "e7a0b6f0-32e9-44e0-a1a2-99d094333abe",
   "metadata": {},
   "outputs": [],
   "source": [
    "microbial_data = microbial_data.drop(columns=['Pankreatektomie_encoded'])"
   ]
  },
  {
   "cell_type": "markdown",
   "id": "5c438e55-2a7b-48b0-a143-40efcf837c71",
   "metadata": {},
   "source": [
    "#### PCA"
   ]
  },
  {
   "cell_type": "code",
   "execution_count": 32,
   "id": "db6e6cce-f9f8-4432-8056-ddd341777456",
   "metadata": {},
   "outputs": [],
   "source": [
    "columns_to_drop = [\n",
    "    \"age\", \"KHK1\", \"KHK2\", \"CA1\", \"CA2\",\n",
    "    \"HbA1C (DCCT/NGSP)1\", \"HbA1C (DCCT/NGSP)2\",\n",
    "    \"Glukose1\", \"Glukose2\", \"Pankreatektomie\",\n",
    "    \"BMI1\", \"BMI2\"\n",
    "]\n",
    "microbial_data = microbial_data.drop(columns=[col for col in columns_to_drop if col in microbial_data.columns])\n"
   ]
  },
  {
   "cell_type": "code",
   "execution_count": 33,
   "id": "bf32122b-3c54-4f1d-a0cc-eddb0811e809",
   "metadata": {},
   "outputs": [],
   "source": [
    "numeric_data = microbial_data.select_dtypes(include=\"number\")"
   ]
  },
  {
   "cell_type": "code",
   "execution_count": 34,
   "id": "27f34397-2d9f-4614-bfad-4eefed16d8cc",
   "metadata": {},
   "outputs": [],
   "source": [
    "pca = PCA(n_components=2)"
   ]
  },
  {
   "cell_type": "code",
   "execution_count": 35,
   "id": "33c87461-73a3-4a16-8079-78936ff4878a",
   "metadata": {},
   "outputs": [],
   "source": [
    "pca_result = pca.fit_transform(numeric_data)"
   ]
  },
  {
   "cell_type": "code",
   "execution_count": 36,
   "id": "be8fc359-f3b2-4b9a-af6c-79ddc0bd8d2b",
   "metadata": {
    "scrolled": true
   },
   "outputs": [],
   "source": [
    "pca_df = pd.DataFrame(pca_result, columns=[\"PC1\", \"PC2\"], index=numeric_data.index)\n",
    "\n",
    "pca_df[\"Type\"] = microbial_data[\"Type\"]"
   ]
  },
  {
   "cell_type": "code",
   "execution_count": 37,
   "id": "81f959dd-3774-4c2e-8cf9-ca4590b3ddd2",
   "metadata": {},
   "outputs": [],
   "source": [
    "explained_var = pca.explained_variance_ratio_"
   ]
  },
  {
   "cell_type": "code",
   "execution_count": 38,
   "id": "55ab0d49-ca2a-4453-9389-eb1a404d59f0",
   "metadata": {},
   "outputs": [],
   "source": [
    "explained_var = pca.explained_variance_ratio_ * 100\n",
    "pc1_label = f\"PC1 ({explained_var[0]:.2f}%)\"\n",
    "pc2_label = f\"PC2 ({explained_var[1]:.2f}%)\"\n",
    "\n",
    "pca_df = pd.DataFrame(\n",
    "    pca_result, columns=[pc1_label, pc2_label], index=numeric_data.index\n",
    ")\n",
    "pca_df[\"Type\"] = microbial_data[\"Type\"]"
   ]
  },
  {
   "cell_type": "code",
   "execution_count": 39,
   "id": "a368d831-4e78-4cb2-b222-a8b6fb77ca21",
   "metadata": {},
   "outputs": [
    {
     "name": "stderr",
     "output_type": "stream",
     "text": [
      "/tmp/ipykernel_3551136/249817343.py:1: FutureWarning: A value is trying to be set on a copy of a DataFrame or Series through chained assignment using an inplace method.\n",
      "The behavior will change in pandas 3.0. This inplace method will never work because the intermediate object on which we are setting values always behaves as a copy.\n",
      "\n",
      "For example, when doing 'df[col].method(value, inplace=True)', try using 'df.method({col: value}, inplace=True)' or df[col] = df[col].method(value) instead, to perform the operation inplace on the original object.\n",
      "\n",
      "\n",
      "  pca_df[\"Type\"].replace(\n",
      "/tmp/ipykernel_3551136/249817343.py:4: FutureWarning: A value is trying to be set on a copy of a DataFrame or Series through chained assignment using an inplace method.\n",
      "The behavior will change in pandas 3.0. This inplace method will never work because the intermediate object on which we are setting values always behaves as a copy.\n",
      "\n",
      "For example, when doing 'df[col].method(value, inplace=True)', try using 'df.method({col: value}, inplace=True)' or df[col] = df[col].method(value) instead, to perform the operation inplace on the original object.\n",
      "\n",
      "\n",
      "  pca_df[\"Type\"].replace(\"pankreopriver Diabetes\", \"Pankreopriver Diabetes\", inplace=True)\n"
     ]
    }
   ],
   "source": [
    "pca_df[\"Type\"].replace(\n",
    "    \"Diabetes mellitus Typ1\", \"Diabetes mellitus Type1\", inplace=True\n",
    ")\n",
    "pca_df[\"Type\"].replace(\"pankreopriver Diabetes\", \"Pankreopriver Diabetes\", inplace=True)"
   ]
  },
  {
   "cell_type": "code",
   "execution_count": 40,
   "id": "aca4b986-8009-4029-9afa-288b6810cc18",
   "metadata": {},
   "outputs": [],
   "source": [
    "pca_df[\"Type\"] = pca_df[\"Type\"].replace(\n",
    "    {\"Pankreopriver Diabetes\": \"PDM\", \"Diabetes mellitus Type1\": \"DM\", \"Kontrolle\": \"K\"}\n",
    ")"
   ]
  },
  {
   "cell_type": "code",
   "execution_count": 41,
   "id": "cffbac14-ef50-4e6f-bc54-03d5e5dc199f",
   "metadata": {},
   "outputs": [],
   "source": [
    "import pandas as pd\n",
    "\n",
    "pca_df_scaled = pca_df.copy()\n",
    "pca_df_scaled[pca_df_scaled.select_dtypes(include=\"number\").columns] *= 0.0001"
   ]
  },
  {
   "cell_type": "code",
   "execution_count": 42,
   "id": "96c24e68-4e05-465a-9792-c2c41e234e44",
   "metadata": {},
   "outputs": [
    {
     "data": {
      "image/png": "[encoded data removed]",
      "text/plain": [
       "<Figure size 500x500 with 1 Axes>"
      ]
     },
     "metadata": {},
     "output_type": "display_data"
    }
   ],
   "source": [
    "import seaborn as sns\n",
    "import matplotlib.pyplot as plt\n",
    "\n",
    "# Step 1: Rename Type categories\n",
    "pca_df[\"Type\"] = pca_df[\"Type\"].replace({\n",
    "    \"K\": \"H\",\n",
    "    \"PDM\": \"T3cDM\",\n",
    "    \"DM\": \"T1DM\"\n",
    "})\n",
    "\n",
    "# Step 2: Update palette to match new labels\n",
    "custom_palette = {\n",
    "    \"H\": \"#1f77b4\",      # Formerly \"K\"\n",
    "    \"T1DM\": \"#ff7f0e\",   # Formerly \"DM\"\n",
    "    \"T3cDM\": \"#2ca02c\",  # Formerly \"PDM\"\n",
    "}\n",
    "\n",
    "# Step 3: Plot\n",
    "plt.figure(figsize=(5, 5))\n",
    "sns.scatterplot(\n",
    "    data=pca_df,\n",
    "    x=pca_df.columns[0],\n",
    "    y=pca_df.columns[1],\n",
    "    hue=\"Type\",\n",
    "    palette=custom_palette,\n",
    "    alpha=0.7,\n",
    "    s=100,\n",
    ")\n",
    "plt.xticks([])\n",
    "plt.yticks([])\n",
    "\n",
    "plt.xlabel(pca_df.columns[0], fontsize=12)\n",
    "plt.ylabel(pca_df.columns[1], fontsize=12)\n",
    "plt.title(\"\")\n",
    "plt.legend(title=\"\", fontsize=12)\n",
    "plt.tight_layout()\n",
    "#plt.savefig(\"/data/scratch/kvalem/projects/2024/diabetes_microbe/05-results/figures/pca.svg\")\n",
    "#plt.savefig(\"/data/scratch/kvalem/projects/2024/diabetes_microbe/05-results/figures/pca.png\")\n",
    "plt.show()\n"
   ]
  },
  {
   "cell_type": "code",
   "execution_count": 44,
   "id": "dc74472f-d1cd-40d5-8d04-14341a3282cc",
   "metadata": {},
   "outputs": [],
   "source": [
    "pca_df.to_csv(\"/data/scratch/kvalem/projects/2024/diabetes_microbe/01-tables/supplementary_tables/pca.csv\")"
   ]
  },
  {
   "cell_type": "code",
   "execution_count": null,
   "id": "61a90618-9ade-48e0-9cbf-86c0d213af4f",
   "metadata": {},
   "outputs": [],
   "source": []
  }
 ],
 "metadata": {
  "kernelspec": {
   "display_name": "scanpy",
   "language": "python",
   "name": "scanpy"
  },
  "language_info": {
   "codemirror_mode": {
    "name": "ipython",
    "version": 3
   },
   "file_extension": ".py",
   "mimetype": "text/x-python",
   "name": "python",
   "nbconvert_exporter": "python",
   "pygments_lexer": "ipython3",
   "version": "3.12.3"
  }
 },
 "nbformat": 4,
 "nbformat_minor": 5
}
